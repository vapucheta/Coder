{
 "cells": [
  {
   "cell_type": "code",
   "execution_count": 29,
   "id": "ddd8680c",
   "metadata": {},
   "outputs": [
    {
     "name": "stdout",
     "output_type": "stream",
     "text": [
      "Ingresar un número: 3\n",
      "Ingresar un segundo número: 6\n",
      "Selecciona la opción del 1 al 4. 1- Para sumarlos, 2- Para restarlos, 3- Para multiplicarlos, 4- Para salir: 1\n",
      "9.0\n"
     ]
    }
   ],
   "source": [
    "# 1) Escribí un programa que lea dos números por teclado y permita elegir entre 4 opciones en un menú:\n",
    "\n",
    "#Mostrar una suma de los dos números\n",
    "#Mostrar una resta de los dos números (el primero menos el segundo)\n",
    "#Mostrar una multiplicación de los dos números\n",
    "#Si elige esta opción se interrumpirá la impresión del menú y el programa finalizará\n",
    "#En caso de no introducir una opción válida, el programa informará de que no es correcta.\n",
    "\n",
    "\n",
    "nro1 = float(input('Ingresar un número: '))\n",
    "nro2 = float(input('Ingresar un segundo número: '))\n",
    "\n",
    "\n",
    "opcion=int(input('Selecciona la opción del 1 al 4. 1- Para sumarlos, 2- Para restarlos, 3- Para multiplicarlos, 4- Para salir: '))\n",
    "\n",
    "if opcion == 1:\n",
    "    print(nro1+nro2)\n",
    "elif opcion == 2:\n",
    "    print(nro1-nro2)\n",
    "elif opcion == 3:\n",
    "    print(nro1*nro2)\n",
    "elif opcion == 4:\n",
    "    pass\n",
    "else:\n",
    "    print('La opcion ingresada no es válida')\n",
    "        "
   ]
  },
  {
   "cell_type": "code",
   "execution_count": 30,
   "id": "8f1e4f4f",
   "metadata": {},
   "outputs": [
    {
     "name": "stdout",
     "output_type": "stream",
     "text": [
      "Introduzca un número impar: 7\n",
      "Perfecto, introdujo nro impar!\n"
     ]
    }
   ],
   "source": [
    "# 2) Escribí un programa que lea un número impar por teclado. Si el usuario no introduce un número impar,\n",
    "# debe repetirse el proceso hasta que lo introduzca correctamente.\n",
    "\n",
    "nro = int(input('Introduzca un número impar: '))%2\n",
    "\n",
    "while nro == 0:\n",
    "    nro = int(input('El número es par, vuelta a intentarlo: '))%2\n",
    "print('Perfecto, introdujo nro impar!')\n"
   ]
  },
  {
   "cell_type": "code",
   "execution_count": 31,
   "id": "d7b12a6f",
   "metadata": {},
   "outputs": [
    {
     "name": "stdout",
     "output_type": "stream",
     "text": [
      "2500\n"
     ]
    }
   ],
   "source": [
    "# 3) Escribí un programa que sume todos los números enteros impares desde el 0 hasta el 100:\n",
    "\n",
    "suma = sum(range (1,100,2))\n",
    "print(suma)"
   ]
  },
  {
   "cell_type": "code",
   "execution_count": 33,
   "id": "97c409d5",
   "metadata": {},
   "outputs": [
    {
     "name": "stdout",
     "output_type": "stream",
     "text": [
      "Cuántos números quiere introducir? 5\n",
      "introduzca un número: 6\n",
      "introduzca un número: 7\n",
      "introduzca un número: 7\n",
      "introduzca un número: 7\n",
      "introduzca un número: 7\n",
      "Los números ingresados son:\n",
      "6\n",
      "7\n",
      "7\n",
      "7\n",
      "7\n",
      "Promedio: 6.8\n"
     ]
    }
   ],
   "source": [
    "# 4) Escribí un programa que pida al usuario cuantos números quiere introducir.\n",
    "# Luego lee todos los números y realiza una media aritmética\n",
    "\n",
    "\n",
    "elementos = int(input('Cuántos números quiere introducir? '))\n",
    "conteo = elementos\n",
    "list_nros = [] \n",
    "\n",
    "while conteo > 0:\n",
    "    numeros_para_media = int(input('introduzca un número: '))\n",
    "    list_nros.append(numeros_para_media)\n",
    "    conteo -=1\n",
    "else:          \n",
    "    print('Los números ingresados son:')\n",
    "    for n in list_nros:\n",
    "        print(n)\n",
    "    media = sum(list_nros)/elementos\n",
    "    print('Promedio:', media)"
   ]
  },
  {
   "cell_type": "code",
   "execution_count": 58,
   "id": "22322fac",
   "metadata": {},
   "outputs": [
    {
     "name": "stdout",
     "output_type": "stream",
     "text": [
      "Favor introducir un número del 0 al 9: 3\n",
      "El número 3 está dentro de listado\n"
     ]
    }
   ],
   "source": [
    "# 5) Escribí un programa que pida al usuario un número entero del 0 al 9, \n",
    "# y que mientras el número no sea correcto se repita el proceso. \n",
    "# Luego debe comprobar si el número se encuentra en la lista de números y notificarlo:\n",
    "# Ayuda: La sintaxis \"valor in lista\" permite comprobar fácilmente si un valor se encuentra en una lista (devuelve True o False)\n",
    "\n",
    "numeros = [1, 3, 6, 9]\n",
    "\n",
    "nro_ent = int(input('Favor introducir un número del 0 al 9: '))\n",
    "\n",
    "while nro_ent < 0 or nro_ent >9:\n",
    "    nro_ent = int(input('El número está fuera del rango solicitado, fv vuelve a introducir un número del 0 al 9: '))\n",
    "else:\n",
    "    if nro_ent in numeros:\n",
    "        print ('El número',nro_ent,'está dentro de listado')\n",
    "    else:\n",
    "        print ('El número',nro_ent,'no está dentro de listado')   \n"
   ]
  },
  {
   "cell_type": "code",
   "execution_count": 56,
   "id": "af46bbd1",
   "metadata": {},
   "outputs": [
    {
     "name": "stdout",
     "output_type": "stream",
     "text": [
      "[0, 1, 2, 3, 4, 5, 6, 7, 8, 9, 10]\n",
      "[-10, -9, -8, -7, -6, -5, -4, -3, -2, -1, 0]\n",
      "[0, 2, 4, 6, 8, 10, 12, 14, 16, 18, 20]\n",
      "[-19, -17, -15, -13, -11, -9, -7, -5, -3, -1]\n",
      "[0, 5, 10, 15, 20, 25, 30, 35, 40, 45, 50]\n"
     ]
    }
   ],
   "source": [
    "# 6) Utilizando la función range() y la conversión a listas genera las siguientes listas dinámicamente:\n",
    "#Todos los números del 0 al 10 [0, 1, 2, ..., 10]\n",
    "#Todos los números del -10 al 0 [-10, -9, -8, ..., 0]\n",
    "#Todos los números pares del 0 al 20 [0, 2, 4, ..., 20]\n",
    "#Todos los números impares entre -20 y 0 [-19, -17, -15, ..., -1]\n",
    "#Todos los números múltiples de 5 del 0 al 50 [0, 5, 10, ..., 50]\n",
    "\n",
    "#Ayuda: la conversión de listas es mi_lista=list(range(inicio,fin,salto))\n",
    "\n",
    "ej1 = list(range(11))\n",
    "print(ej1)\n",
    "\n",
    "ej2 = list(range(-10, 1, 1))\n",
    "print(ej2)\n",
    "\n",
    "ej3 = list(range(0, 21, 2))\n",
    "print(ej3)\n",
    "\n",
    "ej4 = list(range(-19, 0, 2))\n",
    "print(ej4)\n",
    "\n",
    "ej5 = list(range(0, 51, 5))\n",
    "print(ej5)"
   ]
  },
  {
   "cell_type": "code",
   "execution_count": 8,
   "id": "6ece1671",
   "metadata": {},
   "outputs": [
    {
     "name": "stdout",
     "output_type": "stream",
     "text": [
      "Elementos repetidos:  ['a', 'l', 'o']\n"
     ]
    }
   ],
   "source": [
    "# 7) Dadas dos listas, debes generar una tercera con todos los elementos que se repitan en ellas, \n",
    "# pero no debe repetirse ningún elemento en la nueva lista:\n",
    "\n",
    "#Interpretacion de la consigna 1. Busco elementos repetidos dentro de cada lista.\n",
    "\n",
    "lista_1 = [\"h\",'o','l','a',' ', 'm','u','n','d','o']\n",
    "lista_2 = [\"h\",'o','l','a',' ', 'l','u','n','a']\n",
    "lista_3 = []\n",
    "\n",
    "for str in lista_1:\n",
    "    if lista_1.count(str) >= 2:\n",
    "        lista_3.append(str)\n",
    "for str in lista_2:\n",
    "    if lista_2.count(str) >= 2:\n",
    "        lista_3.append(str)\n",
    "\n",
    "lista_3_final = list(set(lista_3)) \n",
    "\n",
    "print('Elementos repetidos: ',lista_3_final)\n",
    "\n",
    "    \n",
    "    "
   ]
  },
  {
   "cell_type": "code",
   "execution_count": 7,
   "id": "ec943ec1",
   "metadata": {},
   "outputs": [
    {
     "name": "stdout",
     "output_type": "stream",
     "text": [
      "Elementos en ambas listas:  ['u', 'l', 'a', ' ', 'h', 'o', 'n']\n"
     ]
    }
   ],
   "source": [
    "#) Dadas dos listas, debes generar una tercera con todos los elementos que se repitan en ellas, \n",
    "# pero no debe repetirse ningún elemento en la nueva lista:\n",
    "\n",
    "#Interpretacion de la consigna 2. Busco elementos que se encuentren en ambas listas.\n",
    "\n",
    "lista_1 = [\"h\",\"o\",\"l\",\"a\",\" \",\"m\",\"u\",\"n\",\"d\",\"o\"]\n",
    "lista_2 = [\"h\",\"o\",\"l\",\"a\",\" \",\"l\",\"u\",\"n\",\"a\"]\n",
    "Lista_4 = []\n",
    "\n",
    "for letra in lista_1:\n",
    "    if letra in lista_2:\n",
    "        Lista_4.append(letra)\n",
    "\n",
    "lista_4_final = list(set(Lista_4))\n",
    "\n",
    "print('Elementos en ambas listas: ',lista_4_final)\n"
   ]
  },
  {
   "cell_type": "code",
   "execution_count": null,
   "id": "b6a0eaa2",
   "metadata": {},
   "outputs": [],
   "source": []
  }
 ],
 "metadata": {
  "kernelspec": {
   "display_name": "Python 3 (ipykernel)",
   "language": "python",
   "name": "python3"
  },
  "language_info": {
   "codemirror_mode": {
    "name": "ipython",
    "version": 3
   },
   "file_extension": ".py",
   "mimetype": "text/x-python",
   "name": "python",
   "nbconvert_exporter": "python",
   "pygments_lexer": "ipython3",
   "version": "3.9.9"
  }
 },
 "nbformat": 4,
 "nbformat_minor": 5
}
