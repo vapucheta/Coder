{
 "cells": [
  {
   "cell_type": "code",
   "execution_count": 29,
   "id": "ddd8680c",
   "metadata": {},
   "outputs": [
    {
     "name": "stdout",
     "output_type": "stream",
     "text": [
      "Ingresar un número: 3\n",
      "Ingresar un segundo número: 6\n",
      "Selecciona la opción del 1 al 4. 1- Para sumarlos, 2- Para restarlos, 3- Para multiplicarlos, 4- Para salir: 1\n",
      "9.0\n"
     ]
    }
   ],
   "source": [
    "# 1) Escribí un programa que lea dos números por teclado y permita elegir entre 4 opciones en un menú:\n",
    "\n",
    "#Mostrar una suma de los dos números\n",
    "#Mostrar una resta de los dos números (el primero menos el segundo)\n",
    "#Mostrar una multiplicación de los dos números\n",
    "#Si elige esta opción se interrumpirá la impresión del menú y el programa finalizará\n",
    "#En caso de no introducir una opción válida, el programa informará de que no es correcta.\n",
    "\n",
    "\n",
    "nro1 = float(input('Ingresar un número: '))\n",
    "nro2 = float(input('Ingresar un segundo número: '))\n",
    "\n",
    "\n",
    "opcion=int(input('Selecciona la opción del 1 al 4. 1- Para sumarlos, 2- Para restarlos, 3- Para multiplicarlos, 4- Para salir: '))\n",
    "\n",
    "if opcion == 1:\n",
    "    print(nro1+nro2)\n",
    "elif opcion == 2:\n",
    "    print(nro1-nro2)\n",
    "elif opcion == 3:\n",
    "    print(nro1*nro2)\n",
    "elif opcion == 4:\n",
    "    pass\n",
    "else:\n",
    "    print('La opcion ingresada no es válida')\n",
    "        "
   ]
  },
  {
   "cell_type": "code",
   "execution_count": 30,
   "id": "8f1e4f4f",
   "metadata": {},
   "outputs": [
    {
     "name": "stdout",
     "output_type": "stream",
     "text": [
      "Introduzca un número impar: 7\n",
      "Perfecto, introdujo nro impar!\n"
     ]
    }
   ],
   "source": [
    "# 2) Escribí un programa que lea un número impar por teclado. Si el usuario no introduce un número impar,\n",
    "# debe repetirse el proceso hasta que lo introduzca correctamente.\n",
    "\n",
    "nro = int(input('Introduzca un número impar: '))%2\n",
    "\n",
    "while nro == 0:\n",
    "    nro = int(input('El número es par, vuelta a intentarlo: '))%2\n",
    "print('Perfecto, introdujo nro impar!')\n"
   ]
  },
  {
   "cell_type": "code",
   "execution_count": 31,
   "id": "d7b12a6f",
   "metadata": {},
   "outputs": [
    {
     "name": "stdout",
     "output_type": "stream",
     "text": [
      "2500\n"
     ]
    }
   ],
   "source": [
    "# 3) Escribí un programa que sume todos los números enteros impares desde el 0 hasta el 100:\n",
    "\n",
    "suma = sum(range (1,100,2))\n",
    "print(suma)"
   ]
  },
  {
   "cell_type": "code",
   "execution_count": 33,
   "id": "0d48382a",
   "metadata": {},
   "outputs": [
    {
     "name": "stdout",
     "output_type": "stream",
     "text": [
      "Cuántos números quiere introducir? 5\n",
      "introduzca un número: 6\n",
      "introduzca un número: 7\n",
      "introduzca un número: 7\n",
      "introduzca un número: 7\n",
      "introduzca un número: 7\n",
      "Los números ingresados son:\n",
      "6\n",
      "7\n",
      "7\n",
      "7\n",
      "7\n",
      "Promedio: 6.8\n"
     ]
    }
   ],
   "source": [
    "# 4) Escribí un programa que pida al usuario cuantos números quiere introducir.\n",
    "# Luego lee todos los números y realiza una media aritmética\n",
    "\n",
    "\n",
    "elementos = int(input('Cuántos números quiere introducir? '))\n",
    "conteo = elementos\n",
    "list_nros = [] \n",
    "\n",
    "while conteo > 0:\n",
    "    numeros_para_media = int(input('introduzca un número: '))\n",
    "    list_nros.append(numeros_para_media)\n",
    "    conteo -=1\n",
    "else:          \n",
    "    print('Los números ingresados son:')\n",
    "    for n in list_nros:\n",
    "        print(n)\n",
    "    media = sum(list_nros)/elementos\n",
    "    print('Promedio:', media)"
   ]
  },
  {
   "cell_type": "code",
   "execution_count": 28,
   "id": "22322fac",
   "metadata": {},
   "outputs": [
    {
     "name": "stdout",
     "output_type": "stream",
     "text": [
      "Favor introducir un número del 0 al 9: 11\n",
      "El número está fuera del rango solicitado, fv vuelve a introducir un número del 0 al 9: 34\n",
      "El número está fuera del rango solicitado, fv vuelve a introducir un número del 0 al 9: 9\n",
      "El número 9 está dentro del intervalo solicitado\n"
     ]
    }
   ],
   "source": [
    "# 5) Escribí un programa que pida al usuario un número entero del 0 al 9, \n",
    "# y que mientras el número no sea correcto se repita el proceso. \n",
    "# Luego debe comprobar si el número se encuentra en la lista de números y notificarlo:\n",
    "\n",
    "nro_ent = int(input('Favor introducir un número del 0 al 9: '))\n",
    "\n",
    "while nro_ent < 0 or nro_ent >9:\n",
    "    nro_ent = int(input('El número está fuera del rango solicitado, fv vuelve a introducir un número del 0 al 9: '))\n",
    "else:\n",
    "    print('El número',nro_ent,'está dentro del rango solicitado')\n",
    "\n"
   ]
  },
  {
   "cell_type": "code",
   "execution_count": null,
   "id": "6ece1671",
   "metadata": {},
   "outputs": [],
   "source": [
    "# 6) Dadas dos listas, debes generar una tercera con todos los elementos que se repitan en ellas, \n",
    "# pero no debe repetirse ningún elemento en la nueva lista:\n",
    "\n",
    "lista_1 = [\"h\",'o','l','a',' ', 'm','u','n','d','o']\n",
    "lista_2 = [\"h\",'o','l','a',' ', 'l','u','n','a']\n",
    "\n",
    "\n",
    "\n",
    "print(lista_3)\n"
   ]
  },
  {
   "cell_type": "code",
   "execution_count": null,
   "id": "9ef7d993",
   "metadata": {},
   "outputs": [],
   "source": []
  }
 ],
 "metadata": {
  "kernelspec": {
   "display_name": "Python 3 (ipykernel)",
   "language": "python",
   "name": "python3"
  },
  "language_info": {
   "codemirror_mode": {
    "name": "ipython",
    "version": 3
   },
   "file_extension": ".py",
   "mimetype": "text/x-python",
   "name": "python",
   "nbconvert_exporter": "python",
   "pygments_lexer": "ipython3",
   "version": "3.9.9"
  }
 },
 "nbformat": 4,
 "nbformat_minor": 5
}
