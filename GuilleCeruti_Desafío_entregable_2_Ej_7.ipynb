{
 "cells": [
  {
   "cell_type": "code",
   "execution_count": 7,
   "id": "fbe82770",
   "metadata": {},
   "outputs": [
    {
     "name": "stdout",
     "output_type": "stream",
     "text": [
      "['a', ' ', 'h', 'n', 'l', 'u', 'o']\n"
     ]
    }
   ],
   "source": [
    "#Dadas dos listas, debes generar una tercera con todos los elementos\n",
    "#que se repitan en ellas, pero no debe repetirse ningún elemento en \n",
    "#la nueva lista:\n",
    "\n",
    "lista_1 = [\"h\",\"o\",\"l\",\"a\",\" \",\"m\",\"u\",\"n\",\"d\",\"o\"]\n",
    "lista_2 = [\"h\",\"o\",\"l\",\"a\",\" \",\"l\",\"u\",\"n\",\"a\"]\n",
    "Lista_3 = []\n",
    "\n",
    "for elemento in lista_1:\n",
    "    if elemento in lista_2:\n",
    "        Lista_3.append(elemento)\n",
    "\n",
    "Lista_3_limpia = list(set(Lista_3))\n",
    "\n",
    "print(Lista_3_limpia)\n"
   ]
  },
  {
   "cell_type": "code",
   "execution_count": null,
   "id": "05233e76",
   "metadata": {},
   "outputs": [],
   "source": [
    "lista_1 = [\"h\",'o','l','a',' ', 'm','u','n','d','o']\n",
    "lista_2 = [\"h\",'o','l','a',' ', 'l','u','n','a']\n",
    "lista_final = []\n",
    "\n",
    "for i in lista_1:\n",
    "    if i in lista_2:\n",
    "    lista_final.append(i)\n",
    "else: continue\n",
    "\n",
    "lista_final = list(set(lista_final))\n",
    "\n",
    "lista_final\n",
    "\n"
   ]
  }
 ],
 "metadata": {
  "kernelspec": {
   "display_name": "Python 3 (ipykernel)",
   "language": "python",
   "name": "python3"
  },
  "language_info": {
   "codemirror_mode": {
    "name": "ipython",
    "version": 3
   },
   "file_extension": ".py",
   "mimetype": "text/x-python",
   "name": "python",
   "nbconvert_exporter": "python",
   "pygments_lexer": "ipython3",
   "version": "3.9.9"
  }
 },
 "nbformat": 4,
 "nbformat_minor": 5
}
