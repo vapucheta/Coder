{
 "cells": [
  {
   "cell_type": "code",
   "execution_count": 34,
   "id": "17aa5798",
   "metadata": {},
   "outputs": [
    {
     "name": "stdout",
     "output_type": "stream",
     "text": [
      "Gordon lanzó su curva...\n",
      "- Strawberry ha fallado por un pie! -gritó joe castiglione.\n",
      "- Dos pies -le corrigió troop.\n",
      "- Strawberry menea la cabeza como disgustado… -agrega el comentarista.\n"
     ]
    }
   ],
   "source": [
    "texto = \"gordon lanzó su curva&strawberry ha fallado por un pie! -gritó Joe Castiglione&dos pies -le corrigió Troop&strawberry menea la cabeza como disgustado… -agrega el comentarista\"\n",
    "\n",
    "lineas = texto.split(\"&\")\n",
    "\n",
    "for i, linea in enumerate(lineas):\n",
    "    lineas[i] = linea.capitalize()\n",
    "    if i == 0:\n",
    "        lineas[i] = lineas[i] + \"...\"\n",
    "    else:\n",
    "        lineas[i] = \"- \" + lineas[i] + \".\"\n",
    "\n",
    "# Mostramos el texto final\n",
    "for linea in lineas:\n",
    "    print(linea)\n",
    "\n",
    "\n",
    "\n"
   ]
  },
  {
   "cell_type": "code",
   "execution_count": 36,
   "id": "c7b113c6",
   "metadata": {},
   "outputs": [
    {
     "name": "stdout",
     "output_type": "stream",
     "text": [
      "Gordon lanzó su curva...\n",
      "- Strawberry ha fallado por un pie! -gritó Joe Castiglione.\n",
      "- Dos pies -le corrigió Troop.\n",
      "- Strawberry menea la cabeza como disgustado… -agrega el comentarista.\n"
     ]
    }
   ],
   "source": [
    "lineas = texto.split(\"&\")\n",
    "for i, linea in enumerate(lineas):\n",
    "    lineas[i] = lineas[i].replace(lineas[i][0], lineas[i][0].upper(), 1)\n",
    "    if i == 0:\n",
    "        lineas[i] = lineas[i] + \"...\"\n",
    "    else:\n",
    "        lineas[i] = \"- \" + lineas[i] + \".\"\n",
    "        \n",
    "# Mostramos el texto final\n",
    "for linea in lineas:\n",
    "    print(linea)\n",
    "\n"
   ]
  },
  {
   "cell_type": "code",
   "execution_count": null,
   "id": "1d613ae2",
   "metadata": {},
   "outputs": [],
   "source": []
  }
 ],
 "metadata": {
  "kernelspec": {
   "display_name": "Python 3 (ipykernel)",
   "language": "python",
   "name": "python3"
  },
  "language_info": {
   "codemirror_mode": {
    "name": "ipython",
    "version": 3
   },
   "file_extension": ".py",
   "mimetype": "text/x-python",
   "name": "python",
   "nbconvert_exporter": "python",
   "pygments_lexer": "ipython3",
   "version": "3.9.9"
  }
 },
 "nbformat": 4,
 "nbformat_minor": 5
}
