{
 "cells": [
  {
   "cell_type": "code",
   "execution_count": 4,
   "id": "59f09405",
   "metadata": {},
   "outputs": [
    {
     "name": "stdout",
     "output_type": "stream",
     "text": [
      "5\n",
      "4\n",
      "3\n",
      "2\n",
      "1\n",
      "Terminó el conteo!\n"
     ]
    }
   ],
   "source": [
    "num = 5\n",
    "while num > 0:\n",
    "    print(num)\n",
    "    num -= 1\n",
    "print('Terminó el conteo!')\n"
   ]
  },
  {
   "cell_type": "code",
   "execution_count": 7,
   "id": "a86e2841",
   "metadata": {},
   "outputs": [
    {
     "name": "stdout",
     "output_type": "stream",
     "text": [
      "Escribe SI: SI\n",
      "Ok, lo conseguiste en el intento 1\n"
     ]
    }
   ],
   "source": [
    "chance  = 1\n",
    "while chance <= 3:\n",
    "    txt = input(\"Escribe SI: \")\n",
    "    if txt == \"SI\":\n",
    "        print(\"Ok, lo conseguiste en el intento\", chance)\n",
    "        break\n",
    "    chance += 1\n",
    "else:\n",
    "    print(\"Has agotado tus tres intentos\")"
   ]
  },
  {
   "cell_type": "code",
   "execution_count": 13,
   "id": "b40b2d9c",
   "metadata": {},
   "outputs": [
    {
     "name": "stdout",
     "output_type": "stream",
     "text": [
      "ingrese nro: 9\n",
      "ingrese nro: 6\n",
      "ingrese nro: 0\n",
      "la suma es: 15\n"
     ]
    }
   ],
   "source": [
    "nro = int(input(\"ingrese nro: \"))\n",
    "sum_lista = []\n",
    "while nro != 0:\n",
    "    sum_lista.append(nro)\n",
    "    nro = int(input(\"ingrese nro: \"))\n",
    "else:    \n",
    "    print('la suma es:', sum(sum_lista))"
   ]
  },
  {
   "cell_type": "code",
   "execution_count": 20,
   "id": "4d166d3e",
   "metadata": {},
   "outputs": [
    {
     "ename": "SyntaxError",
     "evalue": "invalid syntax (Temp/ipykernel_18312/3453925030.py, line 1)",
     "output_type": "error",
     "traceback": [
      "\u001b[1;36m  File \u001b[1;32m\"C:\\Users\\n90323\\AppData\\Local\\Temp/ipykernel_18312/3453925030.py\"\u001b[1;36m, line \u001b[1;32m1\u001b[0m\n\u001b[1;33m    c = -3:\u001b[0m\n\u001b[1;37m          ^\u001b[0m\n\u001b[1;31mSyntaxError\u001b[0m\u001b[1;31m:\u001b[0m invalid syntax\n"
     ]
    }
   ],
   "source": [
    "c = -3:\n",
    "while True:\n",
    "    c += 1\n",
    "if c == 2:\n",
    "    print(“ahora que c vale 2 salimos”)\n",
    "    break\n",
    "print(“c vale “, c)"
   ]
  },
  {
   "cell_type": "code",
   "execution_count": 19,
   "id": "13ef93c6",
   "metadata": {},
   "outputs": [
    {
     "name": "stdout",
     "output_type": "stream",
     "text": [
      "Soy un valor de la lista y valgo  0\n",
      "Ahora valgo  0\n",
      "Soy un valor de la lista y valgo  1\n",
      "Ahora valgo  5\n",
      "Soy un valor de la lista y valgo  2\n",
      "Ahora valgo  10\n",
      "Soy un valor de la lista y valgo  3\n",
      "Ahora valgo  15\n",
      "Soy un valor de la lista y valgo  4\n",
      "Ahora valgo  20\n",
      "Soy un valor de la lista y valgo  5\n",
      "Ahora valgo  25\n",
      "Soy un valor de la lista y valgo  6\n",
      "Ahora valgo  30\n",
      "Soy un valor de la lista y valgo  7\n",
      "Ahora valgo  35\n",
      "Soy un valor de la lista y valgo  77\n",
      "Ahora valgo  385\n",
      "Soy un valor de la lista y valgo  9\n",
      "Ahora valgo  45\n",
      "Soy un valor de la lista y valgo  10\n",
      "Ahora valgo  50\n",
      "[0, 1, 2, 3, 4, 5, 6, 7, 77, 9, 10]\n"
     ]
    }
   ],
   "source": [
    "lista = [0,1,2,3,4,5,6,7,77,9,10]\n",
    "for val in lista:\n",
    "\tprint('Soy un valor de la lista y valgo ', val)\n",
    "\tval *= 5\n",
    "\tprint('Ahora valgo ', val)\n",
    "print(lista)\n"
   ]
  },
  {
   "cell_type": "code",
   "execution_count": 26,
   "id": "78d5799b",
   "metadata": {},
   "outputs": [
    {
     "name": "stdout",
     "output_type": "stream",
     "text": [
      "1 Canada\n",
      "2 USA\n",
      "3 Mexico\n",
      "4 Australia\n",
      "5 Argentina\n",
      "6 China\n",
      "7 India\n"
     ]
    }
   ],
   "source": [
    "#solucion profe\n",
    "paises = ['Canada', 'USA', 'Mexico', 'Australia', 'Argentina', 'China', 'India']\n",
    "for n, pais in enumerate(paises):\n",
    "    print((n+1), pais)\n",
    "    "
   ]
  },
  {
   "cell_type": "code",
   "execution_count": 25,
   "id": "5479707a",
   "metadata": {},
   "outputs": [
    {
     "name": "stdout",
     "output_type": "stream",
     "text": [
      "1 Canada\n",
      "2 USA\n",
      "3 Mexico\n",
      "4 Australia\n",
      "5 Argentina\n",
      "6 China\n",
      "7 India\n"
     ]
    }
   ],
   "source": [
    "#solucion Lucrecia\n",
    "paises = [\"Canada\", \"USA\", \"Mexico\", \"Australia\", \"Argentina\", \"China\", \"India\"]\n",
    "for indice, paises in enumerate (paises):\n",
    "    print(indice +1,paises)\n"
   ]
  },
  {
   "cell_type": "code",
   "execution_count": 28,
   "id": "c403a80e",
   "metadata": {},
   "outputs": [
    {
     "name": "stdout",
     "output_type": "stream",
     "text": [
      "2450\n"
     ]
    }
   ],
   "source": [
    "#Crear un bucle que sume los pares del 0 al 100\n",
    "#solucion profe\n",
    "suma = sum([x for x in range (0,100,2)])\n",
    "print(suma)"
   ]
  },
  {
   "cell_type": "code",
   "execution_count": 35,
   "id": "c3ffc15a",
   "metadata": {},
   "outputs": [
    {
     "name": "stdout",
     "output_type": "stream",
     "text": [
      "La suma de pares es 2450\n"
     ]
    }
   ],
   "source": [
    "#solucion Mariana\n",
    "num= range(0,100)\n",
    "Total=0\n",
    "for valor in num:\n",
    "    if(valor%2==0):\n",
    "        Total +=valor\n",
    "print(\"La suma de pares es\", Total)\n"
   ]
  },
  {
   "cell_type": "code",
   "execution_count": 30,
   "id": "cc06e312",
   "metadata": {},
   "outputs": [
    {
     "name": "stdout",
     "output_type": "stream",
     "text": [
      "La suma de pares es 2450\n"
     ]
    }
   ],
   "source": [
    "#solucion Mariana+profe\n",
    "num= range(0, 100, 2)\n",
    "Total=0\n",
    "for valor in num:\n",
    "    Total +=valor\n",
    "print(\"La suma de pares es\", Total)"
   ]
  },
  {
   "cell_type": "code",
   "execution_count": 34,
   "id": "159a8c56",
   "metadata": {},
   "outputs": [
    {
     "name": "stdout",
     "output_type": "stream",
     "text": [
      "2450\n"
     ]
    }
   ],
   "source": [
    "#Gonzalo M.\n",
    "a = sum(range(0,100,2))\n",
    "print(a)\n"
   ]
  },
  {
   "cell_type": "code",
   "execution_count": 41,
   "id": "b2c4e627",
   "metadata": {},
   "outputs": [
    {
     "name": "stdout",
     "output_type": "stream",
     "text": [
      "2\n",
      "3\n",
      "4\n",
      "5\n",
      "6\n",
      "7\n",
      "8\n",
      "9\n",
      "10\n"
     ]
    },
    {
     "ename": "IndexError",
     "evalue": "range object index out of range",
     "output_type": "error",
     "traceback": [
      "\u001b[1;31m---------------------------------------------------------------------------\u001b[0m",
      "\u001b[1;31mIndexError\u001b[0m                                Traceback (most recent call last)",
      "\u001b[1;32m~\\AppData\\Local\\Temp/ipykernel_18312/3251578794.py\u001b[0m in \u001b[0;36m<module>\u001b[1;34m\u001b[0m\n\u001b[0;32m      4\u001b[0m \u001b[0mlista\u001b[0m \u001b[1;33m=\u001b[0m \u001b[0mrange\u001b[0m\u001b[1;33m(\u001b[0m\u001b[1;36m1\u001b[0m\u001b[1;33m,\u001b[0m\u001b[1;36m11\u001b[0m\u001b[1;33m)\u001b[0m\u001b[1;33m\u001b[0m\u001b[1;33m\u001b[0m\u001b[0m\n\u001b[0;32m      5\u001b[0m \u001b[1;32mfor\u001b[0m \u001b[0mnum\u001b[0m \u001b[1;32min\u001b[0m \u001b[0mlista\u001b[0m\u001b[1;33m:\u001b[0m\u001b[1;33m\u001b[0m\u001b[1;33m\u001b[0m\u001b[0m\n\u001b[1;32m----> 6\u001b[1;33m     \u001b[0mprint\u001b[0m\u001b[1;33m(\u001b[0m\u001b[0mlista\u001b[0m\u001b[1;33m[\u001b[0m\u001b[0mnum\u001b[0m\u001b[1;33m]\u001b[0m\u001b[1;33m)\u001b[0m\u001b[1;33m\u001b[0m\u001b[1;33m\u001b[0m\u001b[0m\n\u001b[0m",
      "\u001b[1;31mIndexError\u001b[0m: range object index out of range"
     ]
    }
   ],
   "source": [
    "#Imprimir por pantalla los números del 1 al 10 al revés, con la lista [1, …, 10]\n",
    "#profe\n",
    "\n",
    "lista = range(1,11)\n",
    "for num in lista:\n",
    "    print(lista[num])\n"
   ]
  },
  {
   "cell_type": "code",
   "execution_count": null,
   "id": "a07fc744",
   "metadata": {},
   "outputs": [],
   "source": []
  }
 ],
 "metadata": {
  "kernelspec": {
   "display_name": "Python 3 (ipykernel)",
   "language": "python",
   "name": "python3"
  },
  "language_info": {
   "codemirror_mode": {
    "name": "ipython",
    "version": 3
   },
   "file_extension": ".py",
   "mimetype": "text/x-python",
   "name": "python",
   "nbconvert_exporter": "python",
   "pygments_lexer": "ipython3",
   "version": "3.9.9"
  }
 },
 "nbformat": 4,
 "nbformat_minor": 5
}
