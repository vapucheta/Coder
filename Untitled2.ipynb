{
 "cells": [
  {
   "cell_type": "code",
   "execution_count": 1,
   "id": "25faf232",
   "metadata": {},
   "outputs": [],
   "source": [
    "def dividir(a,b):\n",
    "        return None if b==0  else a/b"
   ]
  },
  {
   "cell_type": "code",
   "execution_count": null,
   "id": "b3b9e77c",
   "metadata": {},
   "outputs": [],
   "source": []
  }
 ],
 "metadata": {
  "kernelspec": {
   "display_name": "Python 3 (ipykernel)",
   "language": "python",
   "name": "python3"
  },
  "language_info": {
   "codemirror_mode": {
    "name": "ipython",
    "version": 3
   },
   "file_extension": ".py",
   "mimetype": "text/x-python",
   "name": "python",
   "nbconvert_exporter": "python",
   "pygments_lexer": "ipython3",
   "version": "3.9.9"
  }
 },
 "nbformat": 4,
 "nbformat_minor": 5
}
