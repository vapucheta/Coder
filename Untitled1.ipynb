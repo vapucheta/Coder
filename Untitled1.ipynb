{
 "cells": [
  {
   "cell_type": "code",
   "execution_count": null,
   "id": "de70a70e",
   "metadata": {},
   "outputs": [],
   "source": [
    "nro1 = int(input('Ingresar un número: '))\n",
    "nro1=int(input('Ingresar un segundo número: '))\n",
    "\n",
    "\n",
    "opcion=int(input('Selecciona la opción del 1 al 4. Elegir: 1- Para sumarlos, 2- Para restarlos, 3- Para multiplicarlos, 4- Para salir'))\n"
   ]
  },
  {
   "cell_type": "code",
   "execution_count": null,
   "id": "e7fd1fce",
   "metadata": {},
   "outputs": [],
   "source": [
    "num = 5\n",
    "while num > 0:\n",
    "    print(num)\n",
    "    num -= 1\n",
    "print('Terminó el conteo!')\n"
   ]
  },
  {
   "cell_type": "code",
   "execution_count": 18,
   "id": "410581f2",
   "metadata": {},
   "outputs": [
    {
     "name": "stdout",
     "output_type": "stream",
     "text": [
      "Cuántos números quiere introducir? 3\n",
      "introduzca un número: 4\n",
      "introduzca un número: 5\n",
      "introduzca un número: 6\n",
      "Los números ingresados son:\n",
      "4\n",
      "5\n",
      "6\n",
      "Promedio: 5.0\n"
     ]
    }
   ],
   "source": [
    "# 4) Escribí un programa que pida al usuario cuantos números quiere introducir.\n",
    "# Luego lee todos los números y realiza una media aritmética\n",
    "\n",
    "elementos = int(input('Cuántos números quiere introducir? '))\n",
    "conteo = elementos\n",
    "list_nros = [] \n",
    "\n",
    "while conteo > 0:\n",
    "    numeros_para_media = int(input('introduzca un número: '))\n",
    "    list_nros.append(numeros_para_media)\n",
    "    conteo -=1\n",
    "else:          \n",
    "    print('Los números ingresados son:')\n",
    "    for n in list_nros:\n",
    "        print(n)\n",
    "    media = sum(list_nros)/elementos\n",
    "    print('Promedio:', media)\n",
    "                            "
   ]
  },
  {
   "cell_type": "code",
   "execution_count": 1,
   "id": "6fb99330",
   "metadata": {},
   "outputs": [
    {
     "name": "stdout",
     "output_type": "stream",
     "text": [
      "introduzca un número5\n",
      "[5]\n"
     ]
    }
   ],
   "source": [
    "list = []\n",
    "num2 = int(input('introduzca un número'))\n",
    "                           \n",
    "list.append(num2)\n",
    "print(list)"
   ]
  },
  {
   "cell_type": "code",
   "execution_count": 13,
   "id": "7cf4f376",
   "metadata": {},
   "outputs": [
    {
     "name": "stdout",
     "output_type": "stream",
     "text": [
      "H\n",
      "o\n",
      "l\n",
      "a\n",
      " \n",
      "M\n",
      "u\n",
      "n\n",
      "d\n",
      "o\n",
      ",\n",
      " \n",
      "e\n",
      "s\n",
      "t\n",
      "o\n",
      "y\n",
      " \n",
      "u\n",
      "s\n",
      "a\n",
      "n\n",
      "d\n",
      "o\n",
      " \n",
      "f\n",
      "o\n",
      "r\n",
      " \n",
      "e\n",
      "n\n",
      " \n",
      "P\n",
      "y\n",
      "t\n",
      "h\n",
      "o\n",
      "n\n"
     ]
    }
   ],
   "source": [
    "texto = 'Hola Mundo, estoy usando for en Python'\n",
    "for letra in texto:\n",
    "\tprint(letra)"
   ]
  },
  {
   "cell_type": "code",
   "execution_count": 20,
   "id": "2f7eb9e1",
   "metadata": {},
   "outputs": [
    {
     "name": "stdout",
     "output_type": "stream",
     "text": [
      "Canada\n",
      "USA\n",
      "Mexico\n",
      "Australia\n",
      "Argentina\n",
      "China\n",
      "India\n"
     ]
    }
   ],
   "source": [
    "paises = ['Canada', 'USA', 'Mexico', 'Australia', 'Argentina', 'China', 'India']\n",
    "for pais in paises:\n",
    "    print(pais)\n"
   ]
  },
  {
   "cell_type": "code",
   "execution_count": 38,
   "id": "8fc965ef",
   "metadata": {},
   "outputs": [
    {
     "name": "stdout",
     "output_type": "stream",
     "text": [
      "Favor introducir un número del 0 al 9: 11\n",
      "El número está fuera del rango solicitado, fv vuelve a introducir un número del 0 al 9: 2\n",
      "El número 2 no está dentro de listado\n"
     ]
    }
   ],
   "source": [
    "# 5) Escribí un programa que pida al usuario un número entero del 0 al 9, \n",
    "# y que mientras el número no sea correcto se repita el proceso. \n",
    "# Luego debe comprobar si el número se encuentra en la lista de números y notificarlo:\n",
    "# Ayuda: La sintaxis \"valor in lista\" permite comprobar fácilmente si un valor se encuentra en una lista (devuelve True o False)\n",
    "\n",
    "numeros = [1, 3, 6, 9]\n",
    "\n",
    "nro_ent = int(input('Favor introducir un número del 0 al 9: '))\n",
    "\n",
    "while nro_ent < 0 or nro_ent >9:\n",
    "    nro_ent = int(input('El número está fuera del rango solicitado, fv vuelve a introducir un número del 0 al 9: '))\n",
    "else:\n",
    "    if nro_ent in numeros:\n",
    "        print ('El número',nro_ent,'está dentro de listado')\n",
    "    else:\n",
    "        print ('El número',nro_ent,'no está dentro de listado')"
   ]
  },
  {
   "cell_type": "code",
   "execution_count": 57,
   "id": "bc3b602d",
   "metadata": {},
   "outputs": [
    {
     "name": "stdout",
     "output_type": "stream",
     "text": [
      "range(0, 10)\n"
     ]
    }
   ],
   "source": [
    "# 6) Utilizando la función range() y la conversión a listas genera las siguientes listas dinámicamente:\n",
    "#Todos los números del 0 al 10 [0, 1, 2, ..., 10]\n",
    "#Todos los números del -10 al 0 [-10, -9, -8, ..., 0]\n",
    "#Todos los números pares del 0 al 20 [0, 2, 4, ..., 20]\n",
    "#Todos los números impares entre -20 y 0 [-19, -17, -15, ..., -1]\n",
    "#Todos los números múltiples de 5 del 0 al 50 [0, 5, 10, ..., 50]\n",
    "\n",
    "#Ayuda: la conversión de listas es mi_lista=list(range(inicio,fin,salto))\n",
    "\n",
    "list1 = range(0,10)\n",
    "\n",
    "print(list1)\n"
   ]
  },
  {
   "cell_type": "code",
   "execution_count": null,
   "id": "05cfae5e",
   "metadata": {},
   "outputs": [],
   "source": []
  }
 ],
 "metadata": {
  "kernelspec": {
   "display_name": "Python 3 (ipykernel)",
   "language": "python",
   "name": "python3"
  },
  "language_info": {
   "codemirror_mode": {
    "name": "ipython",
    "version": 3
   },
   "file_extension": ".py",
   "mimetype": "text/x-python",
   "name": "python",
   "nbconvert_exporter": "python",
   "pygments_lexer": "ipython3",
   "version": "3.9.9"
  }
 },
 "nbformat": 4,
 "nbformat_minor": 5
}
